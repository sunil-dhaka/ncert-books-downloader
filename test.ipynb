{
 "cells": [
  {
   "cell_type": "code",
   "execution_count": 2,
   "metadata": {},
   "outputs": [],
   "source": [
    "import re"
   ]
  },
  {
   "cell_type": "code",
   "execution_count": 3,
   "metadata": {},
   "outputs": [],
   "source": [
    "source_code_str=''\n",
    "with open('source_code.js','r') as f:\n",
    "    for line in f:\n",
    "        source_code_str+=line"
   ]
  },
  {
   "cell_type": "code",
   "execution_count": 4,
   "metadata": {},
   "outputs": [
    {
     "name": "stdout",
     "output_type": "stream",
     "text": [
      "[('1', 'English'), ('1', 'Mathematics'), ('1', 'Hindi'), ('1', 'Urdu'), ('2', 'Mathematics'), ('2', 'Hindi'), ('2', 'English'), ('2', 'Urdu'), ('3', 'Hindi'), ('3', 'Environmental'), ('3', 'English'), ('3', 'Mathematics'), ('3', 'Urdu'), ('4', 'Mathematics'), ('4', 'Hindi'), ('4', 'Environmental'), ('4', 'English'), ('4', 'Urdu'), ('5', 'Mathematics'), ('5', 'Hindi'), ('5', 'English'), ('5', 'Environmental'), ('5', 'Urdu'), ('6', 'Hindi'), ('6', 'English'), ('6', 'Mathematics'), ('6', 'Social'), ('6', 'Sanskrit'), ('6', 'Science'), ('6', 'Urdu'), ('7', 'Mathematics'), ('7', 'Science'), ('7', 'English'), ('7', 'Sanskrit'), ('7', 'Social'), ('7', 'Hindi'), ('7', 'Urdu'), ('8', 'English'), ('8', 'Mathematics'), ('8', 'Sanskrit'), ('8', 'Hindi'), ('8', 'Science'), ('8', 'Social'), ('8', 'Environmental'), ('8', 'Urdu'), ('9', 'English'), ('9', 'Hindi'), ('9', 'Sanskrit'), ('9', 'Mathematics'), ('9', 'Science'), ('9', 'Urdu'), ('9', 'Social'), ('9', 'Environmental'), ('9', 'Health'), ('9', 'Vocational'), ('9', 'ICT'), ('10', 'Mathematics'), ('10', 'Science'), ('10', 'Hindi'), ('10', 'English'), ('10', 'Social'), ('10', 'Sanskrit'), ('10', 'Urdu'), ('10', 'Environmental'), ('10', 'Health'), ('11', 'Sanskrit'), ('11', 'Accountancy'), ('11', 'Business'), ('11', 'Chemistry'), ('11', 'Mathematics'), ('11', 'Vocational'), ('11', 'Statistics'), ('11', 'Biology'), ('11', 'Home'), ('11', 'Psychology'), ('11', 'Economics'), ('11', 'Geography'), ('11', 'Physics'), ('11', 'Hindi'), ('11', 'Sociology'), ('11', 'English'), ('11', 'Political'), ('11', 'History'), ('11', 'Heritage'), ('11', 'Graphics'), ('11', 'Computers'), ('11', 'Fine'), ('11', 'Urdu'), ('11', 'Creative'), ('11', 'Informatics'), ('11', 'Biotechnology'), ('11', 'Computer'), ('11', 'Health'), ('11', 'Sangeet'), ('12', 'Accountancy'), ('12', 'Mathematics'), ('12', 'Physics'), ('12', 'Hindi'), ('12', 'English'), ('12', 'Biology'), ('12', 'History'), ('12', 'Geography'), ('12', 'Psychology'), ('12', 'Sociology'), ('12', 'Chemistry'), ('12', 'Sanskrit'), ('12', 'Political'), ('12', 'Home'), ('12', 'Economics'), ('12', 'Business'), ('12', 'Urdu'), ('12', 'Heritage'), ('12', 'New'), ('12', 'Creative'), ('12', 'Fine'), ('12', 'Computer'), ('12', 'Informatics'), ('13', 'Hindi'), ('13', 'Sanskrit'), ('13', 'Heritage'), ('13', 'Urdu'), ('14', 'Vocational')]\n"
     ]
    }
   ],
   "source": [
    "pattern=re.compile(r'document.test.tclass.value==(\\d+)\\) && \\(document.test.tsubject.options\\[sind\\].text==\"(\\w+)')\n",
    "book_result=pattern.findall(source_code_str)\n",
    "print(book_result)"
   ]
  },
  {
   "cell_type": "code",
   "execution_count": 16,
   "metadata": {},
   "outputs": [
    {
     "data": {
      "text/plain": [
       "122"
      ]
     },
     "execution_count": 16,
     "metadata": {},
     "output_type": "execute_result"
    }
   ],
   "source": [
    "len(book_result)"
   ]
  },
  {
   "cell_type": "code",
   "execution_count": 5,
   "metadata": {},
   "outputs": [
    {
     "name": "stdout",
     "output_type": "stream",
     "text": [
      "{'class': 1, 'class_folder': 'Class-1', 'subjects': ['English', 'Mathematics', 'Hindi', 'Urdu']}\n",
      "{'class': 2, 'class_folder': 'Class-2', 'subjects': ['Mathematics', 'Hindi', 'English', 'Urdu']}\n",
      "{'class': 3, 'class_folder': 'Class-3', 'subjects': ['Hindi', 'Environmental', 'English', 'Mathematics', 'Urdu']}\n",
      "{'class': 4, 'class_folder': 'Class-4', 'subjects': ['Mathematics', 'Hindi', 'Environmental', 'English', 'Urdu']}\n",
      "{'class': 5, 'class_folder': 'Class-5', 'subjects': ['Mathematics', 'Hindi', 'English', 'Environmental', 'Urdu']}\n",
      "{'class': 6, 'class_folder': 'Class-6', 'subjects': ['Hindi', 'English', 'Mathematics', 'Social', 'Sanskrit', 'Science', 'Urdu']}\n",
      "{'class': 7, 'class_folder': 'Class-7', 'subjects': ['Mathematics', 'Science', 'English', 'Sanskrit', 'Social', 'Hindi', 'Urdu']}\n",
      "{'class': 8, 'class_folder': 'Class-8', 'subjects': ['English', 'Mathematics', 'Sanskrit', 'Hindi', 'Science', 'Social', 'Environmental', 'Urdu']}\n",
      "{'class': 9, 'class_folder': 'Class-9', 'subjects': ['English', 'Hindi', 'Sanskrit', 'Mathematics', 'Science', 'Urdu', 'Social', 'Environmental', 'Health', 'Vocational', 'ICT']}\n",
      "{'class': 10, 'class_folder': 'Class-10', 'subjects': ['Mathematics', 'Science', 'Hindi', 'English', 'Social', 'Sanskrit', 'Urdu', 'Environmental', 'Health']}\n",
      "{'class': 11, 'class_folder': 'Class-11', 'subjects': ['Sanskrit', 'Accountancy', 'Business', 'Chemistry', 'Mathematics', 'Vocational', 'Statistics', 'Biology', 'Home', 'Psychology', 'Economics', 'Geography', 'Physics', 'Hindi', 'Sociology', 'English', 'Political', 'History', 'Heritage', 'Graphics', 'Computers', 'Fine', 'Urdu', 'Creative', 'Informatics', 'Biotechnology', 'Computer', 'Health', 'Sangeet']}\n",
      "{'class': 12, 'class_folder': 'Class-12', 'subjects': ['Accountancy', 'Mathematics', 'Physics', 'Hindi', 'English', 'Biology', 'History', 'Geography', 'Psychology', 'Sociology', 'Chemistry', 'Sanskrit', 'Political', 'Home', 'Economics', 'Business', 'Urdu', 'Heritage', 'New', 'Creative', 'Fine', 'Computer', 'Informatics']}\n",
      "{'class': 13, 'class_folder': 'Class-13', 'subjects': ['Hindi', 'Sanskrit', 'Heritage', 'Urdu']}\n",
      "{'class': 14, 'class_folder': 'Class-14', 'subjects': ['Vocational']}\n"
     ]
    }
   ],
   "source": [
    "download_data=[]\n",
    "CLASSES=list(range(1,15))\n",
    "for c in CLASSES:\n",
    "    data={\n",
    "        'class':c,\n",
    "        'class_folder':f'Class-{str(c)}',\n",
    "        'subjects':[subject_data[1] for subject_data in book_result if int(subject_data[0])==c],\n",
    "    }\n",
    "    print(data)"
   ]
  },
  {
   "cell_type": "code",
   "execution_count": 14,
   "metadata": {},
   "outputs": [],
   "source": [
    "overall_book_data=[]\n",
    "i=0\n",
    "while(i<len(data_result)):\n",
    "    d=[]\n",
    "    if data_result[i][0]=='1':\n",
    "        d.append(data_result[i])\n",
    "        j=i+1\n",
    "        while(j != len(data_result) and data_result[j][0]!='1'):\n",
    "            d.append(data_result[j])\n",
    "            j+=1\n",
    "        i=j\n",
    "    overall_book_data.append(d)"
   ]
  },
  {
   "cell_type": "code",
   "execution_count": 18,
   "metadata": {},
   "outputs": [
    {
     "data": {
      "text/plain": [
       "119"
      ]
     },
     "execution_count": 18,
     "metadata": {},
     "output_type": "execute_result"
    }
   ],
   "source": [
    "len(overall_book_data)"
   ]
  },
  {
   "cell_type": "code",
   "execution_count": 7,
   "metadata": {},
   "outputs": [
    {
     "name": "stdout",
     "output_type": "stream",
     "text": [
      "[('1', 'Marigold', 'textbook.php?aeen1=0-10'), ('2', 'Raindrops', 'textbook.php?aerd1=0-19'), ('1', 'Math-Magic', 'textbook.php?aemh1=0-13'), ('2', 'Ganit Ka Jaadu', 'textbook.php?ahmh1=0-13'), ('3', 'Riyazi Ka Jadoo-I(Urdu)', 'textbook.php?auri1=0-13'), ('1', 'Rimjhim', 'textbook.php?ahhn1=0-23'), ('1', 'Ibtedai Urdu-I', 'textbook.php?aulb1=0-27'), ('1', 'Math-Magic', 'textbook.php?bemh1=0-15'), ('2', 'ganit ka Jadu', 'textbook.php?bhmh1=0-15'), ('3', 'Riyazi ka Jadu-II(Urdu)', 'textbook.php?buri1=0-15'), ('1', 'Rimjhim', 'textbook.php?bhhn1=0-15'), ('1', 'Marigold', 'textbook.php?been1=0-10'), ('2', 'Raindrops', 'textbook.php?berd1=0-15'), ('1', 'Ibtedai Urdu-II', 'textbook.php?buib1=0-20'), ('1', 'Rimjhim', 'textbook.php?chhn1=0-14'), ('1', 'Looking Around', 'textbook.php?ceap1=0-24'), ('2', 'Aas-Pass', 'textbook.php?chap1=0-24'), ('3', 'Aas-Pass(urdu)', 'textbook.php?cuap1=0-24'), ('1', 'Marigold', 'textbook.php?ceen1=0-10'), ('1', 'Mathematics', 'textbook.php?cemh1=0-14'), ('2', 'Ganit', 'textbook.php?chmh1=0-14'), ('3', 'Riyazi Ka Jadoo-III(Urdu)', 'textbook.php?curi1=0-14'), ('1', 'Ibtedai Urdu', 'textbook.php?culb1=0-20'), ('1', 'Math-Magic', 'textbook.php?demh1=0-14'), ('2', 'Ganit Ka Jadu', 'textbook.php?dhmh1=0-14'), ('3', 'Riyazi Ka Jadu(Urdu)', 'textbook.php?duri1=0-14'), ('1', 'Rimjhim', 'textbook.php?dhhn1=0-14'), ('1', 'Looking Around(EVS)', 'textbook.php?deap1=0-27'), ('2', 'Aas Paas', 'textbook.php?dhap1=0-27'), ('3', 'Aas-Paas(Urdu)', 'textbook.php?duap1=0-27'), ('1', 'Marigold', 'textbook.php?deen1=0-9'), ('1', 'Ibtedai Urdu-IV', 'textbook.php?dulb1=0-22'), ('1', 'Math-Magic', 'textbook.php?eemh1=0-14'), ('2', 'Ganit', 'textbook.php?ehmh1=0-14'), ('3', 'Riyazi Ka Jadoo(Urdu)', 'textbook.php?euma1=0-14'), ('1', 'Rimjhim', 'textbook.php?ehhn1=0-18'), ('1', 'Marigold', 'textbook.php?eeen1=0-10'), ('1', 'Aas-Pass', 'textbook.php?ehap1=0-22'), ('2', 'Looking Around', 'textbook.php?eeap1=0-22'), ('3', 'Ass Pass(Urdu)', 'textbook.php?euev1=0-22'), ('1', 'Ibtedai Urdu Class-V', 'textbook.php?eulb1=0-22'), ('1', 'Vasant', 'textbook.php?fhvs1=0-17'), ('2', 'Durva', 'textbook.php?fhdv1=0-28'), ('3', 'Bal Ram Katha', 'textbook.php?fhbr1=0-12'), ('1', 'Honeysuckle', 'textbook.php?fehl1=0-10'), ('2', 'A Pact With The Sun', 'textbook.php?fepw1=0-10'), ('1', 'Mathematics', 'textbook.php?femh1=0-14'), ('2', 'Ganit', 'textbook.php?fhmh1=0-14'), ('3', 'Hisab(Urdu)', 'textbook.php?furi1=0-14'), ('1', 'History - Our Past', 'textbook.php?fess1=0-11'), ('2', 'The Earth Our Habitat', 'textbook.php?fess2=0-8'), ('3', 'Hamare Ateet', 'textbook.php?fhss1=0-11'), ('4', 'Social And Political Life', 'textbook.php?fess3=0-9'), ('5', 'Samajik Evem Rajnitik Jeevan', 'textbook.php?fhss3=0-9'), ('6', 'Prithavi Hamara Avas (Bhugol)', 'textbook.php?fhss2=0-8'), ('7', 'Hamare Maazi(Urdu)', 'textbook.php?fuhm1=0-11'), ('8', 'Zameen Hamara Maskan(Urdu)', 'textbook.php?fuzm1=0-8'), ('9', 'Samazi Aur Siyasi Zindagi(Urdu)', 'textbook.php?fuss1=0-9'), ('1', 'Ruchira', 'textbook.php?fhsk1=0-15'), ('1', 'Vigyan', 'textbook.php?fhsc1=0-16'), ('2', 'Science', 'textbook.php?fesc1=0-16'), ('3', 'science-VI(Urdu)', 'textbook.php?fuse1=0-16'), ('1', 'Apni Zuban-VI', 'textbook.php?fuaz1=0-20'), ('2', 'Urdu Guldasta', 'textbook.php?fuug1=0-11'), ('3', 'Jaan Pahechan ', 'textbook.php?fujp1=0-32'), ('1', 'Ganit', 'textbook.php?ghmh1=0-15'), ('2', 'Mathmatics', 'textbook.php?gemh1=0-15'), ('3', 'Hisab(Urdu)', 'textbook.php?guma1=0-15'), ('1', 'Science', 'textbook.php?gesc1=0-18'), ('2', 'Vigyan', 'textbook.php?ghsc1=0-18'), ('3', 'Science(Urdu)', 'textbook.php?guse1=0-18'), ('1', 'Honeycomb', 'textbook.php?gehc1=0-10'), ('2', 'An alien Hand Supplementry Reader', 'textbook.php?geah1=0-10'), ('1', 'Ruchira', 'textbook.php?ghsk1=0-15'), ('1', 'Social and Political Life', 'textbook.php?gess3=0-9'), ('2', 'Samajik aur Rajniti Jeevan', 'textbook.php?ghss3=0-9'), ('3', 'Samajik Aur Siyasi Zindagi', 'textbook.php?guss3=0-9'), ('4', 'Our Pasts-II', 'textbook.php?gess1=0-10'), ('5', 'Hamare Ateet-II', 'textbook.php?ghss1=0-10'), ('6', 'Our Environment', 'textbook.php?gess2=0-9'), ('7', 'Hamara Paryavaran', 'textbook.php?ghss2=0-9'), ('8', 'Hamare Maazi(Urdu)', 'textbook.php?guhm1=0-10'), ('9', 'Hamare Mahol(Urdu))', 'textbook.php?guha1=0-9'), ('1', 'Vasant', 'textbook.php?ghvs1=0-20'), ('2', 'Durva', 'textbook.php?ghdv1=0-18'), ('3', 'Mahabharat', 'textbook.php?ghmb1=0-1'), ('1', 'Apni Zaban', 'textbook.php?guaz1=0-21'), ('2', 'Urdu Guldasta-Suppl', 'textbook.php?gugu1=0-15'), ('3', 'Door - Pass', 'textbook.php?gudp1=0-26'), ('1', 'Honeydew', 'textbook.php?hehd1=0-10'), ('2', 'It So Happend', 'textbook.php?heih1=0-11'), ('1', 'Mathematics', 'textbook.php?hemh1=0-16'), ('2', 'Ganit', 'textbook.php?hhmh1=0-16'), ('3', 'Riyazi(Urdu)', 'textbook.php?huhi1=0-16'), ('1', 'Ruchira', 'textbook.php?hhsk1=0-15'), ('1', 'Vasant', 'textbook.php?hhvs1=0-18'), ('2', 'Durva', 'textbook.php?hhdv1=0-19'), ('3', 'Bharat Ki Khoj', 'textbook.php?hhbk1=0-9'), ('4', 'Sanshipt Budhcharit', 'textbook.php?hhsb1=0-5'), ('1', 'Science', 'textbook.php?hesc1=0-18'), ('2', 'Vigyan', 'textbook.php?hhsc1=0-18'), ('3', 'Science(Urdu)', 'textbook.php?huse1=0-18'), ('1', 'Resource And Development(Geography)', 'textbook.php?hess4=0-6'), ('2', 'Sansadhan Avam Vikas(Bhugol)', 'textbook.php?hhss4=0-6'), ('3', 'Social And Political Life', 'textbook.php?hess3=0-10'), ('4', 'Samajik Avam Rajnatik Jeevan', 'textbook.php?hhss3=0-10'), ('5', 'Our-Pasts-III  ', 'textbook.php?hess2=0-10'), ('6', 'Hamare Atit-III (Itihas) ', 'textbook.php?hhss1=0-10'), ('7', 'Geography(Urdu)', 'textbook.php?hugy1=0-6'), ('8', 'Samaji Aur Siyasi Zindagi(Urdu)', 'textbook.php?huss1=0-10'), ('9', 'Hamare Maazi (Urdu)', 'textbook.php?huhm1=0-10'), ('1', 'Apni Zaban', 'textbook.php?huaz1=0-22'), ('2', 'Urdu Guldasta (Supl)', 'textbook.php?huug1=0-9'), ('3', 'Door-Pass', 'textbook.php?hudp1=0-20'), ('4', 'Jaan Pahechan', 'textbook.php?hujp1=0-20'), ('1', 'Beehive English Text Book', 'textbook.php?iebe1=0-11'), ('2', 'Moments Supplementary Reader', 'textbook.php?iemo1=0-10'), ('3', 'Words and Expressions� 1', 'textbook.php?iewe1=0-11'), ('1', 'Kshitij Hindi Text Book', 'textbook.php?ihks1=0-17'), ('2', 'Sprash', 'textbook.php?ihsp1=0-13'), ('3', 'Kritika', 'textbook.php?ihkr1=0-5'), ('4', 'Sanchayan', 'textbook.php?ihsa1=0-6'), ('1', 'Shemushi Prathmo Bhag', 'textbook.php?ihsh1=0-12'), ('2', 'Vyakaranavithi', 'textbook.php?jhva1=0-14'), ('3', 'Abhyaswaan Bhav', 'textbook.php?isab1=0-12'), ('1', 'Mathematics', 'textbook.php?iemh1=0-15'), ('2', 'Ganit', 'textbook.php?ihmh1=0-15'), ('3', 'Reyazi (Urdu)', 'textbook.php?iumh1=0-15'), ('1', 'Science', 'textbook.php?iesc1=0-15'), ('2', 'Vigyan', 'textbook.php?ihsc1=0-15'), ('3', 'Science (Urdu)', 'textbook.php?iusc1=0-15'), ('1', 'Gulzare-e-urdu', 'textbook.php?iugu1=0-34'), ('2', 'Nawa-e-urdu', 'textbook.php?iuna1=0-23'), ('3', 'Jaan Pahechan', 'textbook.php?iujp1=0-22'), ('4', 'Door Pass', 'textbook.php?iudp1=0-20'), ('5', 'Sab Rang', 'textbook.php?iusr1=0-10'), ('6', 'Asnaf-e-Urdu Adab', 'textbook.php?iuau1=0-40'), ('1', 'Democratic Politics', 'textbook.php?iess4=0-5'), ('2', 'Loktantrik Rajniti', 'textbook.php?ihss4=0-5'), ('3', 'Contemporary India', 'textbook.php?iess1=0-6'), ('4', 'Samkalin Bharat', 'textbook.php?ihss1=0-6'), ('5', 'Arthashastra', 'textbook.php?ihss2=0-4'), ('6', 'Economics', 'textbook.php?iess2=0-4'), ('7', 'India and the Contempoarary World-I', 'textbook.php?iess3=0-5'), ('8', 'Bharat Aur Samkalin Vishwa-I', 'textbook.php?ihss3=0-5'), ('9', 'Geographia(Urdu)', 'textbook.php?iuge1=0-6'), ('10', 'Jamhuri Syasat(Urdu)', 'textbook.php?iuss4=0-6'), ('11', 'Hindustan Aur Asri Dunia-I(Urdu)', 'textbook.php?iuhi1=0-5'), ('12', 'Aasri Hindustan', 'textbook.php?iuss1=0-6'), ('13', 'Mashiyat', 'textbook.php?iuss2=0-4'), ('1', 'Project Books', 'textbook.php?iepb1=pp-0'), ('1', 'Health and Physical Education', 'textbook.php?iehp1=0-14'), ('1', 'Cashier', 'textbook.php?ievc1=0-5'), ('2', 'Store Operations Assistant', 'textbook.php?ieva1=0-4'), ('3', 'Solanceous Crop Cultivator', 'textbook.php?ievs1=0-5'), ('4', 'Assistant Beauty Therapist', 'textbook.php?ievt1=0-3'), ('5', 'Animal Health Workers (Agriculture)', 'textbook.php?ievw1=0-4'), ('6', 'Hand Embroiderer (Addawala)', 'textbook.php?ieve1=0-5'), ('7', 'Hand Embroiderer', 'textbook.php?ievh1=0-5'), ('8', 'Plumber General', 'textbook.php?iepg1=0-5'), ('9', 'IT Domestic Data Entry Operator', 'textbook.php?ieeo1=0-5'), ('10', 'Employability Skill', 'textbook.php?iees1=0-5'), ('1', 'Information and Communication Technology', 'textbook.php?iict1=0-8'), ('1', 'Mathematics', 'textbook.php?jemh1=0-15'), ('2', 'Ganit', 'textbook.php?jhmh1=0-15'), ('3', 'Riyazi', 'textbook.php?jumh1=0-15'), ('1', 'Science', 'textbook.php?jesc1=0-16'), ('2', 'Vigyan', 'textbook.php?jhsc1=0-16'), ('3', 'Science(Urdu)', 'textbook.php?jusc1=0-16'), ('1', 'Kshitij-2', 'textbook.php?jhks1=0-17'), ('2', 'Sparsh', 'textbook.php?jhsp1=0-17'), ('3', 'Sanchayan Bhag-2', 'textbook.php?jhsy1=0-3'), ('4', 'Kritika', 'textbook.php?jhkr1=0-5'), ('1', 'First Flight', 'textbook.php?jeff1=0-11'), ('2', 'Foot Prints Without feet Supp. Reader', 'textbook.php?jefp1=0-10'), ('3', 'Words and Expressions� 2', 'textbook.php?jewe2=0-11'), ('1', 'Contemporary India ', 'textbook.php?jess1=0-7'), ('2', 'Samkalin Bharat', 'textbook.php?jhss1=0-7'), ('3', 'Aasri Hindustan-II', 'textbook.php?juss1=0-7'), ('4', 'Understanding Economic Development', 'textbook.php?jess2=0-5'), ('5', 'Arthik Vikas ki Samajh', 'textbook.php?jhss2=0-5'), ('6', 'Maashi Taraqqui Ki Samajh', 'textbook.php?juss2=0-5'), ('7', 'India and the Contemporary World-II ', 'textbook.php?jess3=0-5'), ('8', 'Bharat Aur Samakalin Vishav-2', 'textbook.php?jhss3=0-5'), ('9', 'Hindustan Aur Asri Duniya', 'textbook.php?juss3=0-5'), ('10', 'Democratic Politics', 'textbook.php?jess4=0-8'), ('11', 'Loktantrik Rajniti', 'textbook.php?jhss4=0-8'), ('12', 'Jamhuri Siyasat-II ', 'textbook.php?juss4=0-8'), ('1', 'Shemushi', 'textbook.php?jhsk1=0-12'), ('2', 'Vyakaranavithi', 'textbook.php?jhva1=0-14'), ('3', 'Abhyaswaan Bhav-II', 'textbook.php?jsab1=0-14'), ('1', 'Gulzar-e-Urdu', 'textbook.php?juge1=0-12'), ('2', 'Nawa-e-Urdu', 'textbook.php?june1=0-11'), ('3', 'Jaan Pahechan', 'textbook.php?jujp1=0-22'), ('4', 'Door-Paas', 'textbook.php?judp1=0-19'), ('5', 'Sab Rang', 'textbook.php?jusr1=0-9'), ('1', 'Health and Physical Education', 'textbook.php?jehp1=0-13'), ('1', 'Bhaswati', 'textbook.php?khsk1=0-12'), ('2', 'Shashwati', 'textbook.php?khsk2=0-14'), ('1', 'Financial Accounting-I', 'textbook.php?keac1=0-8'), ('2', 'Lekhashastra-I', 'textbook.php?khac1=0-8'), ('3', 'Accountancy-II', 'textbook.php?keac2=0-5'), ('4', 'Lekhashastra-II', 'textbook.php?khac2=0-5'), ('5', 'Khatadari-I(Urdu)', 'textbook.php?kuac1=0-8'), ('6', 'Khatadari-II(Urdu)', 'textbook.php?kuac2=0-5'), ('1', 'Business Studies', 'textbook.php?kebs1=0-11'), ('2', 'Vyavsay Adhyanan', 'textbook.php?khbs1=0-11'), ('3', 'Karobari Uloom I', 'textbook.php?kubs1=0-11'), ('1', 'Chemistry Part-I', 'textbook.php?kech1=0-7'), ('2', 'Rasayan Vigyan bhag-I', 'textbook.php?khch1=0-7'), ('3', 'Keemiya I', 'textbook.php?kuch1=0-7'), ('4', 'Chemistry Part II', 'textbook.php?kech2=0-7'), ('5', 'Rasayan Vigyan bhag-II', 'textbook.php?khch2=0-7'), ('6', 'Keemiya II', 'textbook.php?kuch2=0-7'), ('1', 'Mathematics', 'textbook.php?kemh1=0-16'), ('2', 'Ganit', 'textbook.php?khmh1=0-16'), ('3', 'Riyazi I', 'textbook.php?kumh1=0-16'), ('1', 'Floriculturist- Protected Cultivation', 'textbook.php?kepc1=0-5'), ('2', 'Vision Technician', 'textbook.php?kevt1=0-7'), ('3', 'Floriculturist', 'textbook.php?keoc1=0-6'), ('4', 'General Duty Assistant', 'textbook.php?keda1=0-5'), ('5', 'Dairy Farmer Enterpreneur', 'textbook.php?kedf1=0-4'), ('6', 'Floriculturist', 'textbook.php?kefc1=0-6'), ('1', 'Biology', 'textbook.php?kebo1=0-22'), ('2', 'Jeev Vigyan', 'textbook.php?khbo1=0-22'), ('3', 'Hayatiyaat', 'textbook.php?kubo1=0-22'), ('1', 'Human Ecology and Family Sciences Part I ', 'textbook.php?kehe1=0-2'), ('2', 'Human Ecology and Family Sciences Part II ', 'textbook.php?kehe2=0-2'), ('3', 'Manav Paristhitiki evm pariwar vigyan Bhag-I ', 'textbook.php?khhe1=0-2'), ('4', 'Manav Paristhitiki evm pariwar vigyan Bhag-II ', 'textbook.php?khhe2=0-2'), ('5', 'Insani Mahauliyat aur Uloom e Khandandari-I ', 'textbook.php?kuim1=0-10'), ('6', 'Insani Mahauliyat aur Uloom e Khandandari Part-II ', 'textbook.php?kuim2=0-9'), ('1', 'Introduction to Psychology', 'textbook.php?kepy1=0-9'), ('2', 'Manovigyan', 'textbook.php?khpy1=0-9'), ('3', 'Nafsiyaat ', 'textbook.php?kupy1=0-9'), ('1', 'Indian Economic Development', 'textbook.php?keec1=0-10'), ('2', 'Statistics for Economics', 'textbook.php?kest1=0-9'), ('3', 'Sankhyiki', 'textbook.php?khst1=0-9'), ('4', 'Bhartiya Airthryavstha Ka Vikas ', 'textbook.php?khec1=0-10'), ('5', 'Hindustan Ki Moaashi Tarraqqi(Urdu)', 'textbook.php?kuec1=0-10'), ('6', 'Shumariyaat Bar-e-Mushiyat(Urdu)', 'textbook.php?kusc1=0-9'), ('1', 'Fundamental of Physical Geography', 'textbook.php?kegy2=0-16'), ('2', 'Bhautique Bhugol ke Mool Sidhant', 'textbook.php?khgy2=0-16'), ('3', 'Tabai Gugraphiya ke Mubadiyat', 'textbook.php?kugy2=0-16'), ('4', 'Hindustan Tabiee Mahol (Urdu)', 'textbook.php?kugy1=0-7'), ('5', 'Geographia mein amli kaam (Urdu)', 'textbook.php?kugy1=0-8'), ('6', 'Pratical Work in Geography', 'textbook.php?kegy3=0-8'), ('7', 'Bhugol Main Prayogatmak Karya', 'textbook.php?khgy3=0-8'), ('8', 'India Physical Environment', 'textbook.php?kegy1=0-7'), ('9', 'Bhart Bhautik Paryabaran', 'textbook.php?khgy1=0-7'), ('10', 'Jughrafia Mein Aamli Kam', 'textbook.php?kugy3=0-8'), ('11', 'Geographia Ke Mubadiyat', 'textbook.php?kugm1=0-16'), ('1', 'Physics Part-I', 'textbook.php?keph1=0-8'), ('2', 'Bhautiki-I', 'textbook.php?khph1=0-8'), ('3', 'Tabiyaat-I', 'textbook.php?kuph1=0-8'), ('4', 'Physics Part-II', 'textbook.php?keph2=0-7'), ('5', 'Bhautiki-II', 'textbook.php?khph2=0-7'), ('6', 'Tabiyaat-II', 'textbook.php?kuph2=0-7'), ('1', 'Antra', 'textbook.php?khat1=0-19'), ('2', 'Aroh', 'textbook.php?khar1=0-20'), ('3', 'Vitan', 'textbook.php?khvt1=0-4'), ('4', 'Antral', 'textbook.php?khan1=0-3'), ('1', 'Introducing Sociology', 'textbook.php?kesy1=0-5'), ('2', 'Samaj Shastra Parichay-I', 'textbook.php?khsy1=0-5'), ('3', 'Samajiyaat Ka Tarf', 'textbook.php?kusy1=0-5'), ('4', 'Understanding Society', 'textbook.php?kesy2=0-5'), ('5', 'Samaj ka Bodh', 'textbook.php?khsy2=0-5'), ('6', 'Mutala-e-Muashira', 'textbook.php?kusy2=0-5'), ('1', 'Woven Words', 'textbook.php?keww1=0-27'), ('2', 'Hornbill', 'textbook.php?kehb1=0-14'), ('3', 'Snapshots Suppl.Reader English', 'textbook.php?kesp1=0-8'), ('1', 'Political Theory', 'textbook.php?keps1=0-10'), ('2', 'Raajneeti Sidhant', 'textbook.php?khps1=0-10'), ('3', 'Hindustani Aain aur Kaam', 'textbook.php?kups1=0-10'), ('4', 'Indian Economic Development(Urdu)', 'textbook.php?kuec1=0-10'), ('5', 'India Constitution at Work', 'textbook.php?keps2=0-10'), ('6', 'Bharat ka Samvidhan Sidhant aur Vyavhar', 'textbook.php?khps2=0-10'), ('7', 'Siyasi Nazaria', 'textbook.php?kups2=0-10'), ('1', 'Themes in World History', 'textbook.php?kehs1=0-11'), ('2', 'Vishwa Itihas Ke Kuch Vishay', 'textbook.php?khhs1=0-11'), ('3', 'Tareekh-e-Alam per Mabni Mauzuaat Part I', 'textbook.php?kuta1=0-11'), ('1', 'Living Craft Traditions of India', 'textbook.php?kehc1=0-10'), ('2', 'Hindustan me Dastkari Ki Riwayat', 'textbook.php?kuhc1=0-10'), ('3', 'Dastkari', 'textbook.php?kuhc2=0-10'), ('1', 'The story of graphic design', 'textbook.php?kegd1=0-8'), ('2', 'graphic design ek kahani', 'textbook.php?khgd1=0-8'), ('1', 'CCT Part-I', 'textbook.php?kect1=0-8'), ('2', 'CCT Part-II', 'textbook.php?kect2=0-6'), ('3', 'Computer aur Sanchar Prodhogiki Part-I', 'textbook.php?khct1=0-8'), ('4', 'Computer aur Sanchar Prodhogiki Part-II', 'textbook.php?khct2=0-6'), ('5', 'Computer Aur Muwaslati Technology I', 'textbook.php?kuct1=0-8'), ('6', 'Computer Aur Muwaslati Technology II', 'textbook.php?kuct2=0-6'), ('1', 'An Introduction to Indian Art Part-I', 'textbook.php?kefa1=0-8'), ('2', 'Bhartiya Kala ka parichay', 'textbook.php?khfa1=0-9'), ('1', 'Nai Awaz', 'textbook.php?kuna1=0-20'), ('2', 'Dhanak', 'textbook.php?kudh1=0-27'), ('3', 'Gulistan e Adab', 'textbook.php?kuga1=0-22'), ('4', 'Khyabane Urdu', 'textbook.php?kuku1=0-15'), ('1', 'Srijan', 'textbook.php?khsr1=0-4'), ('2', 'Takhleequi Jauhar', 'textbook.php?kucw1=0-4'), ('1', 'Informatics Practices', 'textbook.php?keip1=0-8'), ('1', 'Biotechnology', 'textbook.php?kebt1=0-12'), ('1', 'Computer Science', 'textbook.php?kecs1=0-11'), ('1', 'Health and Physical Education', 'textbook.php?kehp1=0-11'), ('1', 'Tabla evam Pakhawaj', 'textbook.php?khtp1=0-8'), ('1', 'Accountancy-I', 'textbook.php?leac1=0-5'), ('2', 'Accountancy Part-II', 'textbook.php?leac2=0-6'), ('3', 'Lekhashastra Part-I', 'textbook.php?lhac1=0-5'), ('4', 'Lekhashastra Part-II', 'textbook.php?lhac2=0-6'), ('5', 'Computerised Accounting System', 'textbook.php?leca1=0-6'), ('6', 'Khatadari-I(Urdu)', 'textbook.php?luac1=0-5'), ('7', 'Khatadari-II(Urdu)', 'textbook.php?luac2=0-6'), ('1', 'Mathematics Part-I', 'textbook.php?lemh1=0-6'), ('2', 'Mathematics Part-II', 'textbook.php?lemh2=0-7'), ('3', 'Ganit-I', 'textbook.php?lhmh1=0-6'), ('4', 'Ganit-II', 'textbook.php?lhmh2=0-7'), ('5', 'Riyazi-I', 'textbook.php?lumh1=0-6'), ('6', 'Riyazi-II', 'textbook.php?lumh2=0-7'), ('1', 'Physics Part-I', 'textbook.php?leph1=0-8'), ('2', 'Physics Part-II', 'textbook.php?leph2=0-6'), ('3', 'Bhautiki-I', 'textbook.php?lhph1=0-8'), ('4', 'Bhautiki-II', 'textbook.php?lhph2=0-6'), ('5', 'Tabiyaat-I', 'textbook.php?luph1=0-8'), ('6', 'Tabiyaat-II', 'textbook.php?luph2=0-6'), ('1', 'Antra', 'textbook.php?lhat1=0-21'), ('2', 'Aroh', 'textbook.php?lhar1=0-18'), ('3', 'Vitan', 'textbook.php?lhvt1=0-4'), ('4', 'Antral Bhag 2', 'textbook.php?lhan1=0-4'), ('1', 'Kaliedoscope', 'textbook.php?lekl1=0-21'), ('2', 'Flamingo', 'textbook.php?lefl1=0-14'), ('3', 'Vistas', 'textbook.php?levt1=0-8'), ('1', 'Biology', 'textbook.php?lebo1=0-16'), ('2', 'Jeev Vigyan', 'textbook.php?lhbo1=0-16'), ('3', 'Human Ecology and Family Sciences Part I ', 'textbook.php?lehe1=0-10'), ('4', 'Hayatiyaat', 'textbook.php?lubo1=0-16'), ('1', 'Themes in Indian History-I', 'textbook.php?lehs1=0-4'), ('2', 'Bharatiya Itihas ke kuchh Vishay-I', 'textbook.php?lhhs1=0-4'), ('3', 'Themes in Indian History-II', 'textbook.php?lehs2=0-5'), ('4', 'Bharatiya Itihas ke kuchh Vishay-II ', 'textbook.php?lhhs2=0-5'), ('5', 'Themes in Indian History-III', 'textbook.php?lehs3=0-6'), ('6', 'Bharatiya Itihas ke kuchh Vishay-III', 'textbook.php?lhhs3=0-6'), ('7', 'Tareekh-e-Hind ke Mauzuaat-I(Urdu)', 'textbook.php?luth1=0-4'), ('8', 'Tareekh-e-Hind ke Mauzuaat-II(Urdu)', 'textbook.php?luth2=0-5'), ('9', 'Tareekh-e-Hind ke Mauzuaat-III(Urdu)', 'textbook.php?luth3=0-6'), ('1', 'Fundamentals of Human Geography', 'textbook.php?legy1=0-10'), ('2', 'Practical Work in Geography Part II', 'textbook.php?legy3=0-6'), ('3', 'Manav Bhugol Ke Mool Sidhant', 'textbook.php?lhgy1=0-10'), ('4', 'Bhugol main peryojnatmak pryogatmak karye', 'textbook.php?lhgy3=0-6'), ('5', 'India -People And Economy', 'textbook.php?legy2=0-12'), ('6', 'Bharat log aur arthvyasastha(Bhugol)', 'textbook.php?lhgy2=0-12'), ('7', 'Insani Jughrafia Ke Buniyadi Usool(Urdu)', 'textbook.php?lufh1=0-10'), ('1', 'Psychology', 'textbook.php?lepy1=0-9'), ('2', 'Manovigyan', 'textbook.php?lhpy1=0-9'), ('3', 'Nafsiat(Urdu)', 'textbook.php?lupy1=0-9'), ('1', 'Indian Society', 'textbook.php?lesy1=0-7'), ('2', 'Bhartiya Samaj', 'textbook.php?lhsy1=0-7'), ('3', 'Social Change and Development in India', 'textbook.php?lesy2=0-8'), ('4', 'Bharat main Samajik Parivartan aur Vikas', 'textbook.php?lhsy2=0-8'), ('5', 'Hindustani Samaj(Urdu)', 'textbook.php?luis1=0-7'), ('6', 'Hindustan Mein Samaji Tabdili Aur Taraqqi(Urdu)', 'textbook.php?lusy2=0-8'), ('1', 'Chemistry-I', 'textbook.php?lech1=0-9'), ('2', 'Chemistry-II', 'textbook.php?lech2=0-7'), ('3', 'Rasayan vigyan bhag I', 'textbook.php?lhch1=0-9'), ('4', 'Rasayan vigyan bhag II', 'textbook.php?lhch2=0-7'), ('5', 'Keemiya-I', 'textbook.php?luch1=0-9'), ('6', 'Keemiya-II', 'textbook.php?luch2=0-7'), ('1', 'Bhaswati', 'textbook.php?lhsk1=0-12'), ('2', 'Shaswati', 'textbook.php?lhsk2=0-14'), ('1', 'Contemporary World Politics', 'textbook.php?leps1=0-9'), ('2', 'Samkalin Vishwa Rajniti', 'textbook.php?lhps1=0-9'), ('3', 'Political Science-II', 'textbook.php?leps2=0-9'), ('4', 'Swatantra Bharat Mein Rajniti-II', 'textbook.php?lhps2=0-9'), ('5', 'Aasri Alami Siyasat(Urdu)', 'textbook.php?lups1=0-9'), ('6', 'Azadi Ke Baad Hindustan Ki Siyasat(Urdu)', 'textbook.php?luab1=0-9'), ('1', 'Human Ecology and Family Sciences Part I ', 'textbook.php?lehe1=0-10'), ('2', 'Human Ecology and Family Sciences Part II ', 'textbook.php?lehe2=0-15'), ('3', 'Manav Paristhitik avam Parivar Vigyan Bhag 1 ', 'textbook.php?lehh1=0-10'), ('4', 'Manav Paristhitiki avam Parivar Vigyan Bhag 2', 'textbook.php?lehh2=0-15'), ('1', 'Introductory Microeconomics', 'textbook.php?leec2=0-6'), ('2', 'Introductory Macroeconomics', 'textbook.php?leec1=0-6'), ('3', 'Vyashthi Arthshasrta', 'textbook.php?lhec2=0-6'), ('4', 'Samashty Arthshastra Ek Parichay', 'textbook.php?lhec1=0-6'), ('5', 'Juzvi Maashiyat ka Taruf(Urdu)', 'textbook.php?lume1=0-6'), ('6', 'Kulli Maashiyat Ka Taruf(Urdu)', 'textbook.php?lume2=0-6'), ('1', 'Bussiness Studies-I', 'textbook.php?lebs1=0-8'), ('2', 'Vyavasai Adhyan-I', 'textbook.php?lhbs1=0-8'), ('3', 'Bussiness Studies-II', 'textbook.php?lebs2=0-4'), ('4', 'Vyavasai Adhyan-II', 'textbook.php?lhbs2=0-4'), ('5', 'Karobari Uloom I(Urdu)', 'textbook.php?lubs1=0-8'), ('6', 'Karobari Uloom II(Urdu)', 'textbook.php?lubs2=0-4'), ('1', 'Gulistan-e- Adab', 'textbook.php?luga1=0-11'), ('2', 'Khayaban-e-Urdu', 'textbook.php?luku1=0-6'), ('3', 'Nai Awaz', 'textbook.php?luna1=0-16'), ('4', 'Dhanak', 'textbook.php?ludh1=0-11'), ('1', 'Hindustan me Dastkari Ki Riwayat', 'textbook.php?luhc1=0-9'), ('2', 'Craft Tradition of India', 'textbook.php?lehc1=0-9'), ('3', 'Bharatiya Hastkla Ki Paramparayen', 'textbook.php?lhhc1=0-9'), ('1', 'New Age Graphics Design', 'textbook.php?legd1=0-12'), ('2', 'Srijan-II', 'textbook.php?khsr2=0-4'), ('1', 'Takhleequi Jauhar', 'textbook.php?lucw1=0-11'), ('1', 'An Introduction to Indian Art Part-II', 'textbook.php?lefa1=0-8'), ('1', 'Computer Science', 'textbook.php?lecs1=0-13'), ('1', 'Informatics Practices', 'textbook.php?leip1=0-7'), ('1', 'Abhivyakti Aur Madhyam', 'textbook.php?kham1=0-16'), ('1', 'Sanskrit Sahitya parichay', 'textbook.php?klss1=0-12'), ('1', 'Exploring Craft Tradition of India', 'textbook.php?mehc1=0-10'), ('2', 'Bhartiya Hastkala Parmparaon ki Khoj', 'textbook.php?khhc1=0-10'), ('1', 'Zuban-O-Adab ki Tareekh', 'textbook.php?kuza1=0-23'), ('2', 'Urdu Qwaid aur Insha', 'textbook.php?juuq1=0-22'), ('3', 'Izhar Aur Zara-e-Izhar', 'textbook.php?kuiz1=0-4'), ('1', 'Organic Farming', 'textbook.php?geof1=0-5')]\n"
     ]
    }
   ],
   "source": [
    "pattern=re.compile(r'document.test.tbook.options\\[(\\d+)\\].text=\"(\\w.*)\";\\s+document.test.tbook.options\\[\\d+\\].value=\"(\\w.*)\"')\n",
    "data_result=pattern.findall(source_code_str)\n",
    "print((data_result))"
   ]
  }
 ],
 "metadata": {
  "interpreter": {
   "hash": "365d70965140afb04a698773bfdd31483bc82432b779112c2a78b5de7c16d125"
  },
  "kernelspec": {
   "display_name": "Python 3.8.5 ('base')",
   "language": "python",
   "name": "python3"
  },
  "language_info": {
   "codemirror_mode": {
    "name": "ipython",
    "version": 3
   },
   "file_extension": ".py",
   "mimetype": "text/x-python",
   "name": "python",
   "nbconvert_exporter": "python",
   "pygments_lexer": "ipython3",
   "version": "3.8.5"
  },
  "orig_nbformat": 4
 },
 "nbformat": 4,
 "nbformat_minor": 2
}
